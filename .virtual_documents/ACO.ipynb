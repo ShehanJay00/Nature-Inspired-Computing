import random


# Sample real-world songs with details
songs = {
    1: {'name': 'Blinding Lights', 'artist': 'The Weeknd', 'genre': 'Pop', 'popularity': 95},
    2: {'name': 'Watermelon Sugar', 'artist': 'Harry Styles', 'genre': 'Pop', 'popularity': 88},
    3: {'name': 'Levitating', 'artist': 'Dua Lipa', 'genre': 'Pop', 'popularity': 90},
    4: {'name': 'Peaches', 'artist': 'Justin Bieber', 'genre': 'R&B', 'popularity': 85},
    5: {'name': 'drivers license', 'artist': 'Olivia Rodrigo', 'genre': 'Pop', 'popularity': 92},
    6: {'name': 'Save Your Tears', 'artist': 'The Weeknd', 'genre': 'Pop', 'popularity': 89},
    7: {'name': 'MONTERO (Call Me By Your Name)', 'artist': 'Lil Nas X', 'genre': 'Hip-Hop', 'popularity': 87},
    8: {'name': 'Good 4 U', 'artist': 'Olivia Rodrigo', 'genre': 'Pop', 'popularity': 91},
    9: {'name': 'Kiss Me More', 'artist': 'Doja Cat', 'genre': 'R&B', 'popularity': 86},
    10: {'name': 'Stay', 'artist': 'The Kid LAROI & Justin Bieber', 'genre': 'Pop', 'popularity': 94},
}


# Initialize pheromone levels between songs
pheromones = {(i, j): 1.0 for i in songs for j in songs if i != j}


pheromones


# Heuristic function based on popularity
def heuristic(song1, song2):
    # Preference given to songs with higher popularity
    return (songs[song2]['popularity'] + 1) / 100  # Heuristic scaled for popularity


# Ant class to build playlists
class Ant:
    def __init__(self):
        self.playlist = []

    def select_next_song(self, current_song, unvisited_songs, pheromones):
        # Calculate probabilities based on pheromone levels and heuristic
        probabilities = []
        for song in unvisited_songs:
            pheromone_level = pheromones[(current_song, song)]
            heuristic_value = heuristic(current_song, song)
            probabilities.append(pheromone_level * heuristic_value)

        # Normalize probabilities
        total = sum(probabilities)
        probabilities = [p / total for p in probabilities]

        # Choose next song based on calculated probabilities
        next_song = random.choices(unvisited_songs, weights=probabilities, k=1)[0]
        return next_song

    def create_playlist(self, start_song, pheromones):
        self.playlist = [start_song]
        unvisited_songs = list(songs.keys())
        unvisited_songs.remove(start_song)
        
        current_song = start_song
        while unvisited_songs:
            next_song = self.select_next_song(current_song, unvisited_songs, pheromones)
            self.playlist.append(next_song)
            unvisited_songs.remove(next_song)
            current_song = next_song



# Evaluation function for playlist quality
def evaluate_playlist(playlist):
    # Example: Evaluating based on total popularity score
    return sum(songs[song]['popularity'] for song in playlist)


n_iterations=10
n_ants=10
for iteration in range(n_iterations):
        ants = [Ant() for _ in range(n_ants)]


ants


song2=2
songs[song2]['popularity'] 


current_song=1
song=2
heuristic_value = heuristic(current_song, song)


heuristic_value


current_song=1
song=2
pheromone_level = pheromones[(current_song, song)]


pheromone_level


pheromone_level * heuristic_value


# ACO algorithm
def ant_colony_optimization(start_song, n_ants=10, n_iterations=50, decay=0.1):
    best_playlist = []
    best_score = -1
    
    for iteration in range(n_iterations):
        ants = [Ant() for _ in range(n_ants)]
        
        # Each ant creates a playlist
        for ant in ants:
            ant.create_playlist(start_song, pheromones)
            score = evaluate_playlist(ant.playlist)  # Dummy evaluation function
            if score > best_score:
                best_score = score
                best_playlist = ant.playlist
        
        # Update pheromones
        update_pheromones(ants, decay)
    
    return best_playlist


# Update pheromone levels based on ant solutions
def update_pheromones(ants, decay):
    global pheromones
    # Decay pheromones
    for key in pheromones:
        pheromones[key] *= (1 - decay)
    
    # Reinforce pheromones based on ant solutions
    for ant in ants:
        for i in range(len(ant.playlist) - 1):
            song1 = ant.playlist[i]
            song2 = ant.playlist[i + 1]
            pheromones[(song1, song2)] += 1.0  # Increase pheromone on used paths


# Run the ACO to generate a playlist
start_song = 1  # Starting with 'Blinding Lights'


best_playlist = ant_colony_optimization(start_song)


print("Recommended Playlist:")


for song_id in best_playlist:
    print(f"{songs[song_id]['name']} by {songs[song_id]['artist']} (Genre: {songs[song_id]['genre']}, Popularity: {songs[song_id]['popularity']})")



