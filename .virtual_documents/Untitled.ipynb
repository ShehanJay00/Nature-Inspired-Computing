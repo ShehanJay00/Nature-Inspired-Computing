import numpy as np
import pandas as pd
import random
import matplotlib.pyplot as plt
from sklearn.datasets import load_breast_cancer
from sklearn.model_selection import train_test_split
from sklearn.linear_model import LogisticRegression
from sklearn.metrics import accuracy_score


# Load the dataset
cancer = load_breast_cancer()

# Convert the data into a pandas DataFrame
df = pd.DataFrame(cancer['data'], columns=cancer['feature_names'])

# Add the target variable
label = cancer['target']


df.head()


label


# Split the data into training and testing sets
X_train, X_test, y_train, y_test = train_test_split(df, label, test_size=0.30, random_state=101)

# Train a logistic regression model
logmodel = LogisticRegression(max_iter=10000)  # Added max_iter to prevent convergence issues
logmodel.fit(X_train, y_train)

# Make predictions
predictions = logmodel.predict(X_test)

# Calculate and print the accuracy
accuracy = accuracy_score(y_test, predictions)
print("Accuracy = " + str(accuracy))


import numpy as np

# Define the number of features (genes in the chromosome)
n_feat = 30  # Matches with the breast cancer dataset's 30 features

# Initialize a chromosome with all genes set to True (1)
chromosome = np.ones(n_feat, dtype=np.bool)
print("Chromosome before randomness:\n", chromosome)

# Make 30% of the genes False (0) to introduce diversity
chromosome[:int(0.3 * n_feat)] = False
print("Chromosome after introducing 30% False values:\n", chromosome)

# Shuffle the chromosome randomly to mix the True and False genes
np.random.shuffle(chromosome)
print("Chromosome after random shuffling:\n", chromosome)

# Initialize the population (list of chromosomes)
population = []
population.append(chromosome)  # Add the created chromosome to the population
print("Population formed:\n", population)

# Example of using the chromosome to select features for training
# Assuming `X_train` is already defined and is a DataFrame
# Uncomment the below line when using it with a dataset
# print("Selected features used for training:\n", X_train.iloc[:, chromosome])




