import numpy as np
from numpy import asarray, exp
from numpy.random import randn, rand, seed
from matplotlib import pyplot

# Define objective function (y = x^2)
def objective(step):
    return step[0] ** 2.0

# Define the Simulated Annealing algorithm
def sa(objective, area, iterations, step_size, temperature):
    # Generate a random start point within the search space
    start_point = area[:, 0] + rand(len(area)) * (area[:, 1] - area[:, 0])
    # Evaluate the start point
    start_point_eval = objective(start_point)
    
    # Assign the best starting point and its evaluation to variables
    mia_start_point, mia_start_eval = start_point, start_point_eval
    outputs = []  # This will store the best evaluations

    for i in range(iterations):
        # Generate a step in the search
        mia_step = mia_start_point + randn(len(area)) * step_size
        mia_step_eval = objective(mia_step)

        # If the step improves the solution, adopt it
        if mia_step_eval < start_point_eval:
            start_point, start_point_eval = mia_step, mia_step_eval
            outputs.append(start_point_eval)
            print(f'Metropolis Criteria = {1.0}, Iteration = {i}, Best so far = {start_point}, New best = {start_point_eval:.5f}')

        # Else, calculate the acceptance probability
        difference = mia_step_eval - mia_start_eval
        t = temperature / float(i + 1)
        metropolis = exp(-difference / t)

        # Decide to keep the new point based on Metropolis Criterion
        if difference < 0 or rand() < metropolis:
            mia_start_point, mia_start_eval = mia_step, mia_step_eval

    return [start_point, start_point_eval, outputs]

# Seed for reproducibility
seed(1)

# Define the area of the search space (search space bounds)
area = asarray([[-6.0, 6.0]])

# Define parameters for the Simulated Annealing
temperature = 12
iterations = 1200
step_size = 0.1

# Perform the Simulated Annealing search
start_point, output, outputs = sa(objective, area, iterations, step_size, temperature)

# Plotting the results
pyplot.plot(outputs, 'ro-')
pyplot.xlabel('Improvement Value')
pyplot.ylabel('Evaluation of Objective Function')
pyplot.title('Simulated Annealing: Objective Function Evaluation')
pyplot.grid(True)
pyplot.show()



