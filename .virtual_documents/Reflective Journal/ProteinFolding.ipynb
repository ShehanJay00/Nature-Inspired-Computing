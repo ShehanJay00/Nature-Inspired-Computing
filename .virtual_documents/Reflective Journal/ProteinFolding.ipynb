import numpy as np
import random
import matplotlib.pyplot as plt
import subprocess
from Bio import SeqIO


# Example energy function using simple placeholder
def calculate_energy(sequence, angles):
    # Placeholder for energy calculation
    return sum([np.sin(angle)**2 for angle in angles])



def save_structure_to_pdb(sequence, angles, filename="output.pdb", chain_id="A"):
    with open(filename, "w") as f:
        f.write(f"MODEL\n")
        for i, angle in enumerate(angles):
            residue_name = sequence[i % len(sequence)]  # Use one-letter amino acid code
            f.write(
                f"ATOM  {i+1:5d}  CA  {residue_name:3s} {chain_id}   {i+1:3d}      0.000   0.000   {angle:.3f}  1.00  0.00           C\n"
            )
        f.write("ENDMDL\n")
    print(f"Structure saved to {filename}")


# Visualize structure with PyMOL
def visualize_with_pymol(filename="output.pdb"):
    try:
        subprocess.run(["pymol", filename])
    except FileNotFoundError:
        print("PyMOL is not installed or not found in your PATH.")


# Initialize population (Step 3)
def initialize_population(size, sequence_length):
    return [np.random.uniform(-180, 180, sequence_length) for _ in range(size)]


# Evaluate fitness (Step 2)
def evaluate_population(population, sequence):
    return [calculate_energy(sequence, individual) for individual in population]


# Selection (Step 4: Tournament Selection)
def tournament_selection(population, fitness, k=3):
    selected = []
    for _ in range(len(population)):
        # Randomly choose k individuals and pick the best
        indices = random.sample(range(len(population)), k)
        selected.append(min(indices, key=lambda i: fitness[i]))
    return [population[i] for i in selected]


# Crossover (Step 5: Single-point crossover)
def crossover(parent1, parent2):
    point = random.randint(1, len(parent1) - 1)
    child1 = np.concatenate([parent1[:point], parent2[point:]])
    child2 = np.concatenate([parent2[:point], parent1[point:]])
    return child1, child2


# Mutation (Step 6: Small random changes)
def mutate(individual, mutation_rate=0.1):
    for i in range(len(individual)):
        if random.random() < mutation_rate:
            individual[i] += np.random.uniform(-10, 10)
            individual[i] = np.clip(individual[i], -180, 180)  # Keep angles within valid range
    return individual


# Visualization of energy over generations
def plot_progress(progress):
    plt.figure(figsize=(10, 6))
    plt.plot(progress, marker='o')
    plt.title('Best Energy Over Generations')
    plt.xlabel('Generation')
    plt.ylabel('Best Energy')
    plt.grid()
    plt.show()


# Load multiple chains from FASTA file
def load_sequences_from_fasta(file_path):
    sequences = {}
    with open(file_path, "r") as f:
        for record in SeqIO.parse(f, "fasta"):
            chain_id = record.description.split("|")[1]  # Extract chain info (e.g., "Chains A, C")
            sequences[chain_id] = str(record.seq).replace("$", "")  # Clean up any trailing symbols
    return sequences


# Main GA loop
if __name__ == "__main__":
    # Parameters
    population_size = 20
    sequence_length = 10  # Number of dihedral angles (simplified representation of protein)
    generations = 100
    mutation_rate = 0.1

    # Example protein sequence
    #sequence = "ACDEFGHIKL" 
    
    # Load real protein sequences from FASTA
    fasta_file = "Hemoglobin.fasta"
    sequences = load_sequences_from_fasta(fasta_file)
    
    # Choose a chain for optimization (e.g., alpha chain "Chains A, C")
    chain_to_optimize = "Chains A, C"
    sequence = sequences[chain_to_optimize]
    print(f"Optimizing structure for: {chain_to_optimize}")
    print(f"Sequence: {sequence}")

    # Adjust the population size based on the sequence length
    population = initialize_population(population_size, len(sequence))

    # Step 1: Initialize population
    #population = initialize_population(population_size, sequence_length)
    progress = []  # Track best energy over generations

    for generation in range(generations):
        # Step 2: Evaluate population
        fitness = evaluate_population(population, sequence)

        # Step 4: Selection
        selected_population = tournament_selection(population, fitness)

        # Step 5: Crossover
        new_population = []
        for i in range(0, len(selected_population), 2):
            if i + 1 < len(selected_population):
                child1, child2 = crossover(selected_population[i], selected_population[i + 1])
                new_population.extend([child1, child2])

        # Step 6: Mutation
        new_population = [mutate(individual, mutation_rate) for individual in new_population]

        # Replace old population with new one
        population = new_population

        # Step 7: Evaluate and report best fitness
        fitness = evaluate_population(population, sequence)  # Re-evaluate after mutation
        best_fitness = min(fitness)
        best_individual = population[np.argmin(fitness)]
        progress.append(best_fitness)
        print(f"Generation {generation + 1}: Best Energy = {best_fitness}")

    # Final output
    print("Best solution found:", best_individual)
    print("Best energy:", best_fitness)

    # Save best structure to PDB
    save_structure_to_pdb(sequence, best_individual, filename="best_structure.pdb")

    # Visualize with PyMOL
    visualize_with_pymol("best_structure.pdb")

    # Plot the progress
    plot_progress(progress)






