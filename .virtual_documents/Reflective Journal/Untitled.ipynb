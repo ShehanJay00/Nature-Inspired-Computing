import numpy as np
import random
import matplotlib.pyplot as plt
from pyrosetta import init, pose_from_sequence, ScoreFunctionFactory
import subprocess


pip install numpy matplotlib pyrosetta


from pyrosetta import init
init()
print("PyRosetta initialized successfully!")



conda install numpy matplotlib jupyter -y


ls /path/to/pyrosetta.whl



pwd



