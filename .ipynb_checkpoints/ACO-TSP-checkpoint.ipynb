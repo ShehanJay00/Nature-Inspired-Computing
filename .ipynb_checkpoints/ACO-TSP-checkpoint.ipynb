{
 "cells": [
  {
   "cell_type": "code",
   "execution_count": 8,
   "id": "30c5e3e4-86d9-45f5-a974-fd7ad8816a65",
   "metadata": {},
   "outputs": [],
   "source": [
    "# Install the swarm intelligence library\n",
    "#!pip install sko\n",
    "\n",
    "# Import required libraries\n",
    "import numpy as np\n",
    "from scipy import spatial\n",
    "import pandas as pd\n",
    "import matplotlib.pyplot as plt\n",
    "from sko.ACA import ACA_TSP"
   ]
  },
  {
   "cell_type": "code",
   "execution_count": 9,
   "id": "375ab4a0-9739-44f5-9965-ea95cfff29a9",
   "metadata": {},
   "outputs": [
    {
     "name": "stdout",
     "output_type": "stream",
     "text": [
      "Points Coordinates:\n",
      "[[0.38551128 0.93549867]\n",
      " [0.20996178 0.36683886]\n",
      " [0.39325922 0.09564535]\n",
      " [0.29259326 0.29158025]\n",
      " [0.71277558 0.61905433]\n",
      " [0.43581484 0.62990707]\n",
      " [0.39109995 0.83548377]\n",
      " [0.08659057 0.12410374]\n",
      " [0.41758234 0.17478932]\n",
      " [0.76078458 0.9192951 ]\n",
      " [0.13180841 0.77738712]\n",
      " [0.68061255 0.35525346]]\n"
     ]
    }
   ],
   "source": [
    "# Define the number of points (cities)\n",
    "num_points = 12  # Total number of cities\n",
    "\n",
    "# Generate random coordinates for cities\n",
    "points_coordinate = np.random.rand(num_points, 2)  # Each city has an (x, y) coordinate\n",
    "print(\"Points Coordinates:\")\n",
    "print(points_coordinate)"
   ]
  },
  {
   "cell_type": "code",
   "execution_count": 10,
   "id": "ca3f53d5-3c46-40f3-ba01-875e98a78ab7",
   "metadata": {},
   "outputs": [
    {
     "name": "stdout",
     "output_type": "stream",
     "text": [
      "Distance Matrix:\n",
      "[[0.         0.59513999 0.83988906 0.65058795 0.45523504 0.30970417\n",
      "  0.10017092 0.86470534 0.7613851  0.37562297 0.2989388  0.65097563]\n",
      " [0.59513999 0.         0.32732838 0.11176681 0.562525   0.34671961\n",
      "  0.50243317 0.27228807 0.28282384 0.78013695 0.41792084 0.47079334]\n",
      " [0.83988906 0.32732838 0.         0.22028191 0.61322726 0.53595389\n",
      "  0.73984157 0.30798627 0.08279724 0.90192783 0.7301564  0.38725742]\n",
      " [0.65058795 0.11176681 0.22028191 0.         0.53272175 0.36739278\n",
      "  0.55275185 0.26549104 0.17106254 0.78308942 0.51172266 0.39320891]\n",
      " [0.45523504 0.562525   0.61322726 0.53272175 0.         0.27717329\n",
      "  0.38770725 0.79817527 0.53339522 0.30405489 0.60215623 0.26575433]\n",
      " [0.30970417 0.34671961 0.53595389 0.36739278 0.27717329 0.\n",
      "  0.21038346 0.61464998 0.45548281 0.43514453 0.33789092 0.36791375]\n",
      " [0.10017092 0.50243317 0.73984157 0.55275185 0.38770725 0.21038346\n",
      "  0.         0.77381361 0.66122498 0.37906605 0.26572039 0.56074834]\n",
      " [0.86470534 0.27228807 0.30798627 0.26549104 0.79817527 0.61464998\n",
      "  0.77381361 0.         0.33485008 1.04252907 0.65484642 0.63741063]\n",
      " [0.7613851  0.28282384 0.08279724 0.17106254 0.53339522 0.45548281\n",
      "  0.66122498 0.33485008 0.         0.8198028  0.66692642 0.3189862 ]\n",
      " [0.37562297 0.78013695 0.90192783 0.78308942 0.30405489 0.43514453\n",
      "  0.37906605 1.04252907 0.8198028  0.         0.64478593 0.56971092]\n",
      " [0.2989388  0.41792084 0.7301564  0.51172266 0.60215623 0.33789092\n",
      "  0.26572039 0.65484642 0.66692642 0.64478593 0.         0.69237477]\n",
      " [0.65097563 0.47079334 0.38725742 0.39320891 0.26575433 0.36791375\n",
      "  0.56074834 0.63741063 0.3189862  0.56971092 0.69237477 0.        ]]\n"
     ]
    }
   ],
   "source": [
    "# Calculate the distance matrix using Euclidean distance\n",
    "distance_matrix = spatial.distance.cdist(points_coordinate, points_coordinate, metric='euclidean')\n",
    "print(\"Distance Matrix:\")\n",
    "print(distance_matrix)"
   ]
  },
  {
   "cell_type": "code",
   "execution_count": 11,
   "id": "351117df-ac79-4bd0-b90d-5ee0a211fa13",
   "metadata": {},
   "outputs": [
    {
     "ename": "AttributeError",
     "evalue": "module 'numpy' has no attribute 'int'.\n`np.int` was a deprecated alias for the builtin `int`. To avoid this error in existing code, use `int` by itself. Doing this will not modify any behavior and is safe. When replacing `np.int`, you may wish to use e.g. `np.int64` or `np.int32` to specify the precision. If you wish to review your current use, check the release note link for additional information.\nThe aliases was originally deprecated in NumPy 1.20; for more details and guidance see the original release note at:\n    https://numpy.org/devdocs/release/1.20.0-notes.html#deprecations",
     "output_type": "error",
     "traceback": [
      "\u001b[0;31m---------------------------------------------------------------------------\u001b[0m",
      "\u001b[0;31mAttributeError\u001b[0m                            Traceback (most recent call last)",
      "Cell \u001b[0;32mIn[11], line 2\u001b[0m\n\u001b[1;32m      1\u001b[0m \u001b[38;5;66;03m# Define the Ant Colony Algorithm for the TSP\u001b[39;00m\n\u001b[0;32m----> 2\u001b[0m aca \u001b[38;5;241m=\u001b[39m ACA_TSP(\n\u001b[1;32m      3\u001b[0m     func\u001b[38;5;241m=\u001b[39m\u001b[38;5;28;01mlambda\u001b[39;00m route: \u001b[38;5;28msum\u001b[39m([distance_matrix[route[i \u001b[38;5;241m%\u001b[39m num_points], route[(i \u001b[38;5;241m+\u001b[39m \u001b[38;5;241m1\u001b[39m) \u001b[38;5;241m%\u001b[39m num_points]] \u001b[38;5;28;01mfor\u001b[39;00m i \u001b[38;5;129;01min\u001b[39;00m \u001b[38;5;28mrange\u001b[39m(num_points)]),\n\u001b[1;32m      4\u001b[0m     n_dim\u001b[38;5;241m=\u001b[39mnum_points,\n\u001b[1;32m      5\u001b[0m     size_pop\u001b[38;5;241m=\u001b[39m\u001b[38;5;241m50\u001b[39m,  \u001b[38;5;66;03m# Number of ants\u001b[39;00m\n\u001b[1;32m      6\u001b[0m     max_iter\u001b[38;5;241m=\u001b[39m\u001b[38;5;241m200\u001b[39m,  \u001b[38;5;66;03m# Number of iterations\u001b[39;00m\n\u001b[1;32m      7\u001b[0m     distance_matrix\u001b[38;5;241m=\u001b[39mdistance_matrix\n\u001b[1;32m      8\u001b[0m )\n\u001b[1;32m     10\u001b[0m \u001b[38;5;66;03m# Solve the TSP\u001b[39;00m\n\u001b[1;32m     11\u001b[0m best_route, best_distance \u001b[38;5;241m=\u001b[39m aca\u001b[38;5;241m.\u001b[39mrun()\n",
      "File \u001b[0;32m/opt/anaconda3/lib/python3.11/site-packages/sko/ACA.py:26\u001b[0m, in \u001b[0;36mACA_TSP.__init__\u001b[0;34m(self, func, n_dim, size_pop, max_iter, distance_matrix, alpha, beta, rho)\u001b[0m\n\u001b[1;32m     23\u001b[0m \u001b[38;5;28mself\u001b[39m\u001b[38;5;241m.\u001b[39mprob_matrix_distance \u001b[38;5;241m=\u001b[39m \u001b[38;5;241m1\u001b[39m \u001b[38;5;241m/\u001b[39m (distance_matrix \u001b[38;5;241m+\u001b[39m \u001b[38;5;241m1e-10\u001b[39m \u001b[38;5;241m*\u001b[39m np\u001b[38;5;241m.\u001b[39meye(n_dim, n_dim))  \u001b[38;5;66;03m# 避免除零错误\u001b[39;00m\n\u001b[1;32m     25\u001b[0m \u001b[38;5;28mself\u001b[39m\u001b[38;5;241m.\u001b[39mTau \u001b[38;5;241m=\u001b[39m np\u001b[38;5;241m.\u001b[39mones((n_dim, n_dim))  \u001b[38;5;66;03m# 信息素矩阵，每次迭代都会更新\u001b[39;00m\n\u001b[0;32m---> 26\u001b[0m \u001b[38;5;28mself\u001b[39m\u001b[38;5;241m.\u001b[39mTable \u001b[38;5;241m=\u001b[39m np\u001b[38;5;241m.\u001b[39mzeros((size_pop, n_dim))\u001b[38;5;241m.\u001b[39mastype(np\u001b[38;5;241m.\u001b[39mint)  \u001b[38;5;66;03m# 某一代每个蚂蚁的爬行路径\u001b[39;00m\n\u001b[1;32m     27\u001b[0m \u001b[38;5;28mself\u001b[39m\u001b[38;5;241m.\u001b[39my \u001b[38;5;241m=\u001b[39m \u001b[38;5;28;01mNone\u001b[39;00m  \u001b[38;5;66;03m# 某一代每个蚂蚁的爬行总距离\u001b[39;00m\n\u001b[1;32m     28\u001b[0m \u001b[38;5;28mself\u001b[39m\u001b[38;5;241m.\u001b[39mx_best_history, \u001b[38;5;28mself\u001b[39m\u001b[38;5;241m.\u001b[39my_best_history \u001b[38;5;241m=\u001b[39m [], []  \u001b[38;5;66;03m# 记录各代的最佳情况\u001b[39;00m\n",
      "File \u001b[0;32m/opt/anaconda3/lib/python3.11/site-packages/numpy/__init__.py:324\u001b[0m, in \u001b[0;36m__getattr__\u001b[0;34m(attr)\u001b[0m\n\u001b[1;32m    319\u001b[0m     warnings\u001b[38;5;241m.\u001b[39mwarn(\n\u001b[1;32m    320\u001b[0m         \u001b[38;5;124mf\u001b[39m\u001b[38;5;124m\"\u001b[39m\u001b[38;5;124mIn the future `np.\u001b[39m\u001b[38;5;132;01m{\u001b[39;00mattr\u001b[38;5;132;01m}\u001b[39;00m\u001b[38;5;124m` will be defined as the \u001b[39m\u001b[38;5;124m\"\u001b[39m\n\u001b[1;32m    321\u001b[0m         \u001b[38;5;124m\"\u001b[39m\u001b[38;5;124mcorresponding NumPy scalar.\u001b[39m\u001b[38;5;124m\"\u001b[39m, \u001b[38;5;167;01mFutureWarning\u001b[39;00m, stacklevel\u001b[38;5;241m=\u001b[39m\u001b[38;5;241m2\u001b[39m)\n\u001b[1;32m    323\u001b[0m \u001b[38;5;28;01mif\u001b[39;00m attr \u001b[38;5;129;01min\u001b[39;00m __former_attrs__:\n\u001b[0;32m--> 324\u001b[0m     \u001b[38;5;28;01mraise\u001b[39;00m \u001b[38;5;167;01mAttributeError\u001b[39;00m(__former_attrs__[attr])\n\u001b[1;32m    326\u001b[0m \u001b[38;5;28;01mif\u001b[39;00m attr \u001b[38;5;241m==\u001b[39m \u001b[38;5;124m'\u001b[39m\u001b[38;5;124mtesting\u001b[39m\u001b[38;5;124m'\u001b[39m:\n\u001b[1;32m    327\u001b[0m     \u001b[38;5;28;01mimport\u001b[39;00m \u001b[38;5;21;01mnumpy\u001b[39;00m\u001b[38;5;21;01m.\u001b[39;00m\u001b[38;5;21;01mtesting\u001b[39;00m \u001b[38;5;28;01mas\u001b[39;00m \u001b[38;5;21;01mtesting\u001b[39;00m\n",
      "\u001b[0;31mAttributeError\u001b[0m: module 'numpy' has no attribute 'int'.\n`np.int` was a deprecated alias for the builtin `int`. To avoid this error in existing code, use `int` by itself. Doing this will not modify any behavior and is safe. When replacing `np.int`, you may wish to use e.g. `np.int64` or `np.int32` to specify the precision. If you wish to review your current use, check the release note link for additional information.\nThe aliases was originally deprecated in NumPy 1.20; for more details and guidance see the original release note at:\n    https://numpy.org/devdocs/release/1.20.0-notes.html#deprecations"
     ]
    }
   ],
   "source": [
    "# Define the Ant Colony Algorithm for the TSP\n",
    "aca = ACA_TSP(\n",
    "    func=lambda route: sum([distance_matrix[route[i % num_points], route[(i + 1) % num_points]] for i in range(num_points)]),\n",
    "    n_dim=num_points,\n",
    "    size_pop=50,  # Number of ants\n",
    "    max_iter=200,  # Number of iterations\n",
    "    distance_matrix=distance_matrix\n",
    ")\n",
    "\n",
    "# Solve the TSP\n",
    "best_route, best_distance = aca.run()\n",
    "\n",
    "# Print the best route and the corresponding distance\n",
    "print(\"Best Route:\", best_route)\n",
    "print(\"Best Distance:\", best_distance)"
   ]
  },
  {
   "cell_type": "code",
   "execution_count": null,
   "id": "f48e368d-932a-4665-9139-340654440732",
   "metadata": {},
   "outputs": [],
   "source": []
  },
  {
   "cell_type": "code",
   "execution_count": null,
   "id": "83da6300-53de-4cd4-aff3-9f9a6bc26268",
   "metadata": {},
   "outputs": [],
   "source": []
  },
  {
   "cell_type": "code",
   "execution_count": null,
   "id": "0043ea30-8858-4dad-ad49-e461375e4af4",
   "metadata": {},
   "outputs": [],
   "source": []
  }
 ],
 "metadata": {
  "kernelspec": {
   "display_name": "Python 3 (ipykernel)",
   "language": "python",
   "name": "python3"
  },
  "language_info": {
   "codemirror_mode": {
    "name": "ipython",
    "version": 3
   },
   "file_extension": ".py",
   "mimetype": "text/x-python",
   "name": "python",
   "nbconvert_exporter": "python",
   "pygments_lexer": "ipython3",
   "version": "3.11.7"
  }
 },
 "nbformat": 4,
 "nbformat_minor": 5
}
