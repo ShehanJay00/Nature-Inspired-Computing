{
 "cells": [
  {
   "cell_type": "code",
   "execution_count": 1,
   "id": "a549af3d-44b2-4deb-884f-492cc6d92722",
   "metadata": {},
   "outputs": [],
   "source": [
    "import random"
   ]
  },
  {
   "cell_type": "code",
   "execution_count": 2,
   "id": "4fc0717b-c216-4341-bc13-8688db773523",
   "metadata": {},
   "outputs": [],
   "source": [
    "# Sample real-world songs with details\n",
    "songs = {\n",
    "    1: {'name': 'Blinding Lights', 'artist': 'The Weeknd', 'genre': 'Pop', 'popularity': 95},\n",
    "    2: {'name': 'Watermelon Sugar', 'artist': 'Harry Styles', 'genre': 'Pop', 'popularity': 88},\n",
    "    3: {'name': 'Levitating', 'artist': 'Dua Lipa', 'genre': 'Pop', 'popularity': 90},\n",
    "    4: {'name': 'Peaches', 'artist': 'Justin Bieber', 'genre': 'R&B', 'popularity': 85},\n",
    "    5: {'name': 'drivers license', 'artist': 'Olivia Rodrigo', 'genre': 'Pop', 'popularity': 92},\n",
    "    6: {'name': 'Save Your Tears', 'artist': 'The Weeknd', 'genre': 'Pop', 'popularity': 89},\n",
    "    7: {'name': 'MONTERO (Call Me By Your Name)', 'artist': 'Lil Nas X', 'genre': 'Hip-Hop', 'popularity': 87},\n",
    "    8: {'name': 'Good 4 U', 'artist': 'Olivia Rodrigo', 'genre': 'Pop', 'popularity': 91},\n",
    "    9: {'name': 'Kiss Me More', 'artist': 'Doja Cat', 'genre': 'R&B', 'popularity': 86},\n",
    "    10: {'name': 'Stay', 'artist': 'The Kid LAROI & Justin Bieber', 'genre': 'Pop', 'popularity': 94},\n",
    "}"
   ]
  },
  {
   "cell_type": "code",
   "execution_count": 3,
   "id": "b5e812dc-374e-490c-99e5-c9410d45f0c9",
   "metadata": {},
   "outputs": [],
   "source": [
    "# Initialize pheromone levels between songs\n",
    "pheromones = {(i, j): 1.0 for i in songs for j in songs if i != j}"
   ]
  },
  {
   "cell_type": "code",
   "execution_count": 4,
   "id": "9c549ba9-61f2-425d-be28-64edbfbfa8da",
   "metadata": {},
   "outputs": [
    {
     "data": {
      "text/plain": [
       "{(1, 2): 1.0,\n",
       " (1, 3): 1.0,\n",
       " (1, 4): 1.0,\n",
       " (1, 5): 1.0,\n",
       " (1, 6): 1.0,\n",
       " (1, 7): 1.0,\n",
       " (1, 8): 1.0,\n",
       " (1, 9): 1.0,\n",
       " (1, 10): 1.0,\n",
       " (2, 1): 1.0,\n",
       " (2, 3): 1.0,\n",
       " (2, 4): 1.0,\n",
       " (2, 5): 1.0,\n",
       " (2, 6): 1.0,\n",
       " (2, 7): 1.0,\n",
       " (2, 8): 1.0,\n",
       " (2, 9): 1.0,\n",
       " (2, 10): 1.0,\n",
       " (3, 1): 1.0,\n",
       " (3, 2): 1.0,\n",
       " (3, 4): 1.0,\n",
       " (3, 5): 1.0,\n",
       " (3, 6): 1.0,\n",
       " (3, 7): 1.0,\n",
       " (3, 8): 1.0,\n",
       " (3, 9): 1.0,\n",
       " (3, 10): 1.0,\n",
       " (4, 1): 1.0,\n",
       " (4, 2): 1.0,\n",
       " (4, 3): 1.0,\n",
       " (4, 5): 1.0,\n",
       " (4, 6): 1.0,\n",
       " (4, 7): 1.0,\n",
       " (4, 8): 1.0,\n",
       " (4, 9): 1.0,\n",
       " (4, 10): 1.0,\n",
       " (5, 1): 1.0,\n",
       " (5, 2): 1.0,\n",
       " (5, 3): 1.0,\n",
       " (5, 4): 1.0,\n",
       " (5, 6): 1.0,\n",
       " (5, 7): 1.0,\n",
       " (5, 8): 1.0,\n",
       " (5, 9): 1.0,\n",
       " (5, 10): 1.0,\n",
       " (6, 1): 1.0,\n",
       " (6, 2): 1.0,\n",
       " (6, 3): 1.0,\n",
       " (6, 4): 1.0,\n",
       " (6, 5): 1.0,\n",
       " (6, 7): 1.0,\n",
       " (6, 8): 1.0,\n",
       " (6, 9): 1.0,\n",
       " (6, 10): 1.0,\n",
       " (7, 1): 1.0,\n",
       " (7, 2): 1.0,\n",
       " (7, 3): 1.0,\n",
       " (7, 4): 1.0,\n",
       " (7, 5): 1.0,\n",
       " (7, 6): 1.0,\n",
       " (7, 8): 1.0,\n",
       " (7, 9): 1.0,\n",
       " (7, 10): 1.0,\n",
       " (8, 1): 1.0,\n",
       " (8, 2): 1.0,\n",
       " (8, 3): 1.0,\n",
       " (8, 4): 1.0,\n",
       " (8, 5): 1.0,\n",
       " (8, 6): 1.0,\n",
       " (8, 7): 1.0,\n",
       " (8, 9): 1.0,\n",
       " (8, 10): 1.0,\n",
       " (9, 1): 1.0,\n",
       " (9, 2): 1.0,\n",
       " (9, 3): 1.0,\n",
       " (9, 4): 1.0,\n",
       " (9, 5): 1.0,\n",
       " (9, 6): 1.0,\n",
       " (9, 7): 1.0,\n",
       " (9, 8): 1.0,\n",
       " (9, 10): 1.0,\n",
       " (10, 1): 1.0,\n",
       " (10, 2): 1.0,\n",
       " (10, 3): 1.0,\n",
       " (10, 4): 1.0,\n",
       " (10, 5): 1.0,\n",
       " (10, 6): 1.0,\n",
       " (10, 7): 1.0,\n",
       " (10, 8): 1.0,\n",
       " (10, 9): 1.0}"
      ]
     },
     "execution_count": 4,
     "metadata": {},
     "output_type": "execute_result"
    }
   ],
   "source": [
    "pheromones"
   ]
  },
  {
   "cell_type": "code",
   "execution_count": 5,
   "id": "5df69429-2b25-4799-b067-36c277a41ee6",
   "metadata": {},
   "outputs": [],
   "source": [
    "# Heuristic function based on popularity\n",
    "def heuristic(song1, song2):\n",
    "    # Preference given to songs with higher popularity\n",
    "    return (songs[song2]['popularity'] + 1) / 100  # Heuristic scaled for popularity"
   ]
  },
  {
   "cell_type": "code",
   "execution_count": 6,
   "id": "47de4a74-2f14-44ea-bf59-02bc8bd86219",
   "metadata": {},
   "outputs": [],
   "source": [
    "# Ant class to build playlists\n",
    "class Ant:\n",
    "    def __init__(self):\n",
    "        self.playlist = []\n",
    "\n",
    "    def select_next_song(self, current_song, unvisited_songs, pheromones):\n",
    "        # Calculate probabilities based on pheromone levels and heuristic\n",
    "        probabilities = []\n",
    "        for song in unvisited_songs:\n",
    "            pheromone_level = pheromones[(current_song, song)]\n",
    "            heuristic_value = heuristic(current_song, song)\n",
    "            probabilities.append(pheromone_level * heuristic_value)\n",
    "\n",
    "        # Normalize probabilities\n",
    "        total = sum(probabilities)\n",
    "        probabilities = [p / total for p in probabilities]\n",
    "\n",
    "        # Choose next song based on calculated probabilities\n",
    "        next_song = random.choices(unvisited_songs, weights=probabilities, k=1)[0]\n",
    "        return next_song\n",
    "\n",
    "    def create_playlist(self, start_song, pheromones):\n",
    "        self.playlist = [start_song]\n",
    "        unvisited_songs = list(songs.keys())\n",
    "        unvisited_songs.remove(start_song)\n",
    "        \n",
    "        current_song = start_song\n",
    "        while unvisited_songs:\n",
    "            next_song = self.select_next_song(current_song, unvisited_songs, pheromones)\n",
    "            self.playlist.append(next_song)\n",
    "            unvisited_songs.remove(next_song)\n",
    "            current_song = next_song\n"
   ]
  },
  {
   "cell_type": "code",
   "execution_count": 7,
   "id": "cb2e28b7-55b6-4593-ba5b-09f7fc30d3c7",
   "metadata": {},
   "outputs": [],
   "source": [
    "# Evaluation function for playlist quality\n",
    "def evaluate_playlist(playlist):\n",
    "    # Example: Evaluating based on total popularity score\n",
    "    return sum(songs[song]['popularity'] for song in playlist)"
   ]
  },
  {
   "cell_type": "code",
   "execution_count": 8,
   "id": "407b4d92-0769-4135-a4ff-89d2dd76424a",
   "metadata": {},
   "outputs": [],
   "source": [
    "n_iterations=10\n",
    "n_ants=10\n",
    "for iteration in range(n_iterations):\n",
    "        ants = [Ant() for _ in range(n_ants)]"
   ]
  },
  {
   "cell_type": "code",
   "execution_count": 9,
   "id": "f5e1b274-1b9e-430c-8541-17bae315d1a4",
   "metadata": {},
   "outputs": [
    {
     "data": {
      "text/plain": [
       "[<__main__.Ant at 0x165264f90>,\n",
       " <__main__.Ant at 0x165265910>,\n",
       " <__main__.Ant at 0x165265850>,\n",
       " <__main__.Ant at 0x165265c50>,\n",
       " <__main__.Ant at 0x165265d10>,\n",
       " <__main__.Ant at 0x165265c90>,\n",
       " <__main__.Ant at 0x1652658d0>,\n",
       " <__main__.Ant at 0x165265890>,\n",
       " <__main__.Ant at 0x165265810>,\n",
       " <__main__.Ant at 0x165265b10>]"
      ]
     },
     "execution_count": 9,
     "metadata": {},
     "output_type": "execute_result"
    }
   ],
   "source": [
    "ants"
   ]
  },
  {
   "cell_type": "code",
   "execution_count": 10,
   "id": "e692ced6-2b23-4b34-b266-c9c436214b5c",
   "metadata": {},
   "outputs": [
    {
     "data": {
      "text/plain": [
       "88"
      ]
     },
     "execution_count": 10,
     "metadata": {},
     "output_type": "execute_result"
    }
   ],
   "source": [
    "song2=2\n",
    "songs[song2]['popularity'] "
   ]
  },
  {
   "cell_type": "code",
   "execution_count": 11,
   "id": "2492cd42-9620-41bc-880d-eae209d9d918",
   "metadata": {},
   "outputs": [],
   "source": [
    "current_song=1\n",
    "song=2\n",
    "heuristic_value = heuristic(current_song, song)"
   ]
  },
  {
   "cell_type": "code",
   "execution_count": 12,
   "id": "3da8c6c9-60b8-445c-b3d4-3c3a29825217",
   "metadata": {},
   "outputs": [
    {
     "data": {
      "text/plain": [
       "0.89"
      ]
     },
     "execution_count": 12,
     "metadata": {},
     "output_type": "execute_result"
    }
   ],
   "source": [
    "heuristic_value"
   ]
  },
  {
   "cell_type": "code",
   "execution_count": 13,
   "id": "47b3f933-183d-43d8-b655-027aacf33d8d",
   "metadata": {},
   "outputs": [],
   "source": [
    "current_song=1\n",
    "song=2\n",
    "pheromone_level = pheromones[(current_song, song)]"
   ]
  },
  {
   "cell_type": "code",
   "execution_count": 14,
   "id": "fc1d1766-81b6-4837-bbbb-b6269be20432",
   "metadata": {},
   "outputs": [
    {
     "data": {
      "text/plain": [
       "1.0"
      ]
     },
     "execution_count": 14,
     "metadata": {},
     "output_type": "execute_result"
    }
   ],
   "source": [
    "pheromone_level"
   ]
  },
  {
   "cell_type": "code",
   "execution_count": 15,
   "id": "09afc797-0091-401e-85bf-f52568396eda",
   "metadata": {},
   "outputs": [
    {
     "data": {
      "text/plain": [
       "0.89"
      ]
     },
     "execution_count": 15,
     "metadata": {},
     "output_type": "execute_result"
    }
   ],
   "source": [
    "pheromone_level * heuristic_value"
   ]
  },
  {
   "cell_type": "code",
   "execution_count": 16,
   "id": "22183a48-1f02-4703-bfcb-c52796981af6",
   "metadata": {},
   "outputs": [],
   "source": [
    "# ACO algorithm\n",
    "def ant_colony_optimization(start_song, n_ants=10, n_iterations=50, decay=0.1):\n",
    "    best_playlist = []\n",
    "    best_score = -1\n",
    "    \n",
    "    for iteration in range(n_iterations):\n",
    "        ants = [Ant() for _ in range(n_ants)]\n",
    "        \n",
    "        # Each ant creates a playlist\n",
    "        for ant in ants:\n",
    "            ant.create_playlist(start_song, pheromones)\n",
    "            score = evaluate_playlist(ant.playlist)  # Dummy evaluation function\n",
    "            if score > best_score:\n",
    "                best_score = score\n",
    "                best_playlist = ant.playlist\n",
    "        \n",
    "        # Update pheromones\n",
    "        update_pheromones(ants, decay)\n",
    "    \n",
    "    return best_playlist"
   ]
  },
  {
   "cell_type": "code",
   "execution_count": 17,
   "id": "5ca156c7-0110-4a79-9008-d1f65f096243",
   "metadata": {},
   "outputs": [],
   "source": [
    "# Update pheromone levels based on ant solutions\n",
    "def update_pheromones(ants, decay):\n",
    "    global pheromones\n",
    "    # Decay pheromones\n",
    "    for key in pheromones:\n",
    "        pheromones[key] *= (1 - decay)\n",
    "    \n",
    "    # Reinforce pheromones based on ant solutions\n",
    "    for ant in ants:\n",
    "        for i in range(len(ant.playlist) - 1):\n",
    "            song1 = ant.playlist[i]\n",
    "            song2 = ant.playlist[i + 1]\n",
    "            pheromones[(song1, song2)] += 1.0  # Increase pheromone on used paths"
   ]
  },
  {
   "cell_type": "code",
   "execution_count": 18,
   "id": "5b03205c-59f8-413e-8984-ec4a6d8f520d",
   "metadata": {},
   "outputs": [],
   "source": [
    "# Run the ACO to generate a playlist\n",
    "start_song = 1  # Starting with 'Blinding Lights'"
   ]
  },
  {
   "cell_type": "code",
   "execution_count": 19,
   "id": "13cd114f-2fcd-4c45-8b33-167c971c1d75",
   "metadata": {},
   "outputs": [],
   "source": [
    "best_playlist = ant_colony_optimization(start_song)"
   ]
  },
  {
   "cell_type": "code",
   "execution_count": 20,
   "id": "b8beaba1-1e47-4218-91e2-9c386dc3d644",
   "metadata": {},
   "outputs": [
    {
     "name": "stdout",
     "output_type": "stream",
     "text": [
      "Recommended Playlist:\n"
     ]
    }
   ],
   "source": [
    "print(\"Recommended Playlist:\")"
   ]
  },
  {
   "cell_type": "code",
   "execution_count": 25,
   "id": "91e8609c-ca91-44c6-9ddd-d7485ebcb37b",
   "metadata": {},
   "outputs": [
    {
     "name": "stdout",
     "output_type": "stream",
     "text": [
      "Blinding Lights by The Weeknd (Genre: Pop, Popularity: 95)\n",
      "MONTERO (Call Me By Your Name) by Lil Nas X (Genre: Hip-Hop, Popularity: 87)\n",
      "Stay by The Kid LAROI & Justin Bieber (Genre: Pop, Popularity: 94)\n",
      "Good 4 U by Olivia Rodrigo (Genre: Pop, Popularity: 91)\n",
      "Kiss Me More by Doja Cat (Genre: R&B, Popularity: 86)\n",
      "drivers license by Olivia Rodrigo (Genre: Pop, Popularity: 92)\n",
      "Watermelon Sugar by Harry Styles (Genre: Pop, Popularity: 88)\n",
      "Save Your Tears by The Weeknd (Genre: Pop, Popularity: 89)\n",
      "Levitating by Dua Lipa (Genre: Pop, Popularity: 90)\n",
      "Peaches by Justin Bieber (Genre: R&B, Popularity: 85)\n"
     ]
    }
   ],
   "source": [
    "for song_id in best_playlist:\n",
    "    print(f\"{songs[song_id]['name']} by {songs[song_id]['artist']} (Genre: {songs[song_id]['genre']}, Popularity: {songs[song_id]['popularity']})\")"
   ]
  },
  {
   "cell_type": "code",
   "execution_count": null,
   "id": "b59df4a2-4ab4-47fb-ba5c-911b61b0d031",
   "metadata": {},
   "outputs": [],
   "source": []
  }
 ],
 "metadata": {
  "kernelspec": {
   "display_name": "Python 3 (ipykernel)",
   "language": "python",
   "name": "python3"
  },
  "language_info": {
   "codemirror_mode": {
    "name": "ipython",
    "version": 3
   },
   "file_extension": ".py",
   "mimetype": "text/x-python",
   "name": "python",
   "nbconvert_exporter": "python",
   "pygments_lexer": "ipython3",
   "version": "3.11.7"
  }
 },
 "nbformat": 4,
 "nbformat_minor": 5
}
