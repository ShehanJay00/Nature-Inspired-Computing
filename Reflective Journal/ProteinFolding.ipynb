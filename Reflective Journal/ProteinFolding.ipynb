{
 "cells": [
  {
   "cell_type": "code",
   "execution_count": 14,
   "id": "087aa979-c816-4ba3-bc27-63f2f919cb44",
   "metadata": {},
   "outputs": [],
   "source": [
    "import numpy as np\n",
    "import random\n",
    "import matplotlib.pyplot as plt\n",
    "import subprocess"
   ]
  },
  {
   "cell_type": "code",
   "execution_count": 17,
   "id": "474c53b9-2393-45aa-b76b-831592ca4772",
   "metadata": {},
   "outputs": [
    {
     "ename": "SyntaxError",
     "evalue": "invalid syntax (3342952221.py, line 1)",
     "output_type": "error",
     "traceback": [
      "\u001b[0;36m  Cell \u001b[0;32mIn[17], line 1\u001b[0;36m\u001b[0m\n\u001b[0;31m    brew install cmake python glew freeglut\u001b[0m\n\u001b[0m         ^\u001b[0m\n\u001b[0;31mSyntaxError\u001b[0m\u001b[0;31m:\u001b[0m invalid syntax\n"
     ]
    }
   ],
   "source": [
    "brew install cmake python glew freeglut"
   ]
  },
  {
   "cell_type": "code",
   "execution_count": 7,
   "id": "f95d0490-6d9d-4b05-878f-e092e2c60dd8",
   "metadata": {},
   "outputs": [
    {
     "ename": "ModuleNotFoundError",
     "evalue": "No module named 'pyrosetta'",
     "output_type": "error",
     "traceback": [
      "\u001b[0;31m---------------------------------------------------------------------------\u001b[0m",
      "\u001b[0;31mModuleNotFoundError\u001b[0m                       Traceback (most recent call last)",
      "Cell \u001b[0;32mIn[7], line 1\u001b[0m\n\u001b[0;32m----> 1\u001b[0m \u001b[38;5;28;01mfrom\u001b[39;00m \u001b[38;5;21;01mpyrosetta\u001b[39;00m \u001b[38;5;28;01mimport\u001b[39;00m init\n\u001b[1;32m      2\u001b[0m init()\n\u001b[1;32m      3\u001b[0m \u001b[38;5;28mprint\u001b[39m(\u001b[38;5;124m\"\u001b[39m\u001b[38;5;124mPyRosetta initialized successfully!\u001b[39m\u001b[38;5;124m\"\u001b[39m)\n",
      "\u001b[0;31mModuleNotFoundError\u001b[0m: No module named 'pyrosetta'"
     ]
    }
   ],
   "source": [
    "from pyrosetta import init\n",
    "init()\n",
    "print(\"PyRosetta initialized successfully!\")\n"
   ]
  },
  {
   "cell_type": "code",
   "execution_count": 10,
   "id": "3442bde8-f7d8-4c6c-83b9-077ceeb47f56",
   "metadata": {},
   "outputs": [
    {
     "name": "stdout",
     "output_type": "stream",
     "text": [
      "Retrieving notices: ...working... done\n",
      "Channels:\n",
      " - defaults\n",
      "Platform: osx-arm64\n",
      "Collecting package metadata (repodata.json): done\n",
      "Solving environment: done\n",
      "\n",
      "## Package Plan ##\n",
      "\n",
      "  environment location: /opt/anaconda3\n",
      "\n",
      "  added / updated specs:\n",
      "    - jupyter\n",
      "    - matplotlib\n",
      "    - numpy\n",
      "\n",
      "\n",
      "The following packages will be downloaded:\n",
      "\n",
      "    package                    |            build\n",
      "    ---------------------------|-----------------\n",
      "    ca-certificates-2024.11.26 |       hca03da5_0         132 KB\n",
      "    certifi-2024.12.14         |  py311hca03da5_0         163 KB\n",
      "    conda-24.11.1              |  py311hca03da5_0         1.2 MB\n",
      "    matplotlib-3.9.2           |  py311hca03da5_1           8 KB\n",
      "    matplotlib-base-3.9.2      |  py311h7ef442a_1         7.9 MB\n",
      "    ------------------------------------------------------------\n",
      "                                           Total:         9.4 MB\n",
      "\n",
      "The following packages will be UPDATED:\n",
      "\n",
      "  ca-certificates                      2024.9.24-hca03da5_0 --> 2024.11.26-hca03da5_0 \n",
      "  certifi                         2024.8.30-py311hca03da5_0 --> 2024.12.14-py311hca03da5_0 \n",
      "  conda                              24.9.2-py311hca03da5_0 --> 24.11.1-py311hca03da5_0 \n",
      "  matplotlib                          3.8.0-py311hca03da5_0 --> 3.9.2-py311hca03da5_1 \n",
      "  matplotlib-base                     3.8.0-py311h7aedaa7_0 --> 3.9.2-py311h7ef442a_1 \n",
      "\n",
      "\n",
      "\n",
      "Downloading and Extracting Packages:\n",
      "matplotlib-base-3.9. | 7.9 MB    |                                       |   0% \n",
      "conda-24.11.1        | 1.2 MB    |                                       |   0% \u001b[A\n",
      "\n",
      "certifi-2024.12.14   | 163 KB    |                                       |   0% \u001b[A\u001b[A\n",
      "\n",
      "\n",
      "ca-certificates-2024 | 132 KB    |                                       |   0% \u001b[A\u001b[A\u001b[A\n",
      "\n",
      "\n",
      "\n",
      "matplotlib-3.9.2     | 8 KB      |                                       |   0% \u001b[A\u001b[A\u001b[A\u001b[A\n",
      "\n",
      "certifi-2024.12.14   | 163 KB    | ###6                                  |  10% \u001b[A\u001b[A\n",
      "\n",
      "certifi-2024.12.14   | 163 KB    | ##################################### | 100% \u001b[A\u001b[A\n",
      "\n",
      "\n",
      "\n",
      "matplotlib-3.9.2     | 8 KB      | ##################################### | 100% \u001b[A\u001b[A\u001b[A\u001b[A\n",
      "\n",
      "\n",
      "ca-certificates-2024 | 132 KB    | ####4                                 |  12% \u001b[A\u001b[A\u001b[A\n",
      "\n",
      "\n",
      "\n",
      "matplotlib-base-3.9. | 7.9 MB    |                                       |   0% \u001b[A\u001b[A\u001b[A\u001b[A\n",
      "\n",
      "\n",
      "ca-certificates-2024 | 132 KB    | ##################################### | 100% \u001b[A\u001b[A\u001b[A\n",
      "matplotlib-base-3.9. | 7.9 MB    | #                                     |   3% \u001b[A\n",
      "matplotlib-base-3.9. | 7.9 MB    | ##2                                   |   6% \u001b[A\n",
      "matplotlib-base-3.9. | 7.9 MB    | ###4                                  |   9% \u001b[A\n",
      "matplotlib-base-3.9. | 7.9 MB    | ####6                                 |  12% \u001b[A\n",
      "matplotlib-base-3.9. | 7.9 MB    | ######4                               |  17% \u001b[A\n",
      "matplotlib-base-3.9. | 7.9 MB    | ########1                             |  22% \u001b[A\n",
      "matplotlib-base-3.9. | 7.9 MB    | ############2                         |  33% \u001b[A\n",
      "matplotlib-base-3.9. | 7.9 MB    | #################9                    |  48% \u001b[A\n",
      "conda-24.11.1        | 1.2 MB    | ##################################### | 100% \u001b[A\n",
      "                                                                                \u001b[A\n",
      "                                                                                \u001b[A\n",
      "\n",
      "                                                                                \u001b[A\u001b[A\n",
      "\n",
      "\n",
      "                                                                                \u001b[A\u001b[A\u001b[A\n",
      "\n",
      "\n",
      "\n",
      "                                                                                \u001b[A\u001b[A\u001b[A\u001b[A\n",
      "Preparing transaction: done\n",
      "Verifying transaction: done\n",
      "Executing transaction: done\n",
      "\n",
      "Note: you may need to restart the kernel to use updated packages.\n"
     ]
    }
   ],
   "source": [
    "conda install numpy matplotlib jupyter -y"
   ]
  },
  {
   "cell_type": "code",
   "execution_count": 12,
   "id": "9375d32d-4882-46a0-95af-4277937dd508",
   "metadata": {},
   "outputs": [
    {
     "name": "stdout",
     "output_type": "stream",
     "text": [
      "ls: /path/to/pyrosetta.whl: No such file or directory\n"
     ]
    }
   ],
   "source": [
    "ls /path/to/pyrosetta.whl\n"
   ]
  },
  {
   "cell_type": "code",
   "execution_count": 13,
   "id": "84ef89da-1678-44f7-9d88-a12bca1412aa",
   "metadata": {},
   "outputs": [
    {
     "data": {
      "text/plain": [
       "'/Users/apple/Desktop/NIC/Reflective Journal'"
      ]
     },
     "execution_count": 13,
     "metadata": {},
     "output_type": "execute_result"
    }
   ],
   "source": [
    "pwd"
   ]
  },
  {
   "cell_type": "code",
   "execution_count": null,
   "id": "5ead0fbb-e517-4d85-b2ca-d7eee1536c80",
   "metadata": {},
   "outputs": [],
   "source": []
  }
 ],
 "metadata": {
  "kernelspec": {
   "display_name": "Python 3 (ipykernel)",
   "language": "python",
   "name": "python3"
  },
  "language_info": {
   "codemirror_mode": {
    "name": "ipython",
    "version": 3
   },
   "file_extension": ".py",
   "mimetype": "text/x-python",
   "name": "python",
   "nbconvert_exporter": "python",
   "pygments_lexer": "ipython3",
   "version": "3.11.7"
  }
 },
 "nbformat": 4,
 "nbformat_minor": 5
}
